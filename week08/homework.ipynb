{
 "metadata": {
  "language_info": {
   "codemirror_mode": {
    "name": "ipython",
    "version": 3
   },
   "file_extension": ".py",
   "mimetype": "text/x-python",
   "name": "python",
   "nbconvert_exporter": "python",
   "pygments_lexer": "ipython3",
   "version": "3.7.4-final"
  },
  "orig_nbformat": 2,
  "kernelspec": {
   "name": "python_defaultSpec_1597596576351",
   "display_name": "Python 3.7.4 64-bit ('base': conda)"
  }
 },
 "nbformat": 4,
 "nbformat_minor": 2,
 "cells": [
  {
   "cell_type": "markdown",
   "metadata": {},
   "source": [
    "## 作业一：\n",
    "\n",
    "- 容器序列 `list、tuple、dict、collections.deque`\n",
    "- 扁平序列 `str`\n",
    "- 可变序列 `list、dict、collections.deque`\n",
    "- 不可变序列 `tuple、str`"
   ]
  },
  {
   "cell_type": "markdown",
   "metadata": {},
   "source": [
    "## 作业二："
   ]
  },
  {
   "cell_type": "code",
   "execution_count": 4,
   "metadata": {
    "tags": []
   },
   "outputs": [
    {
     "output_type": "stream",
     "name": "stdout",
     "text": "[236, 38, 15, 15]\n[11, 12, 13]\n"
    }
   ],
   "source": [
    "def my_map(func, *args):\n",
    "    for i in range(len(args[0])):\n",
    "        yield func(*[_iter[i] for _iter in args])      \n",
    "    \n",
    "print(list(my_map((lambda x, y, z: x + y + z), (1,2,9,3),[234,34,3,8], [1,2,3,4])))\n",
    "\n",
    "print(list(my_map((lambda x: x + 10), [1,2,3])))"
   ]
  },
  {
   "cell_type": "markdown",
   "metadata": {},
   "source": [
    "## 作业三："
   ]
  },
  {
   "cell_type": "code",
   "execution_count": 71,
   "metadata": {
    "tags": []
   },
   "outputs": [
    {
     "output_type": "stream",
     "name": "stdout",
     "text": "消耗时间 --- 5.005502939224243\n"
    },
    {
     "output_type": "execute_result",
     "data": {
      "text/plain": "6"
     },
     "metadata": {},
     "execution_count": 71
    }
   ],
   "source": [
    "import time\n",
    "\n",
    "def timer(func):\n",
    "    def inner(*args, **kwargs):\n",
    "        start_time = time.time()\n",
    "        result = func(*args, **kwargs)\n",
    "        end_time = time.time()\n",
    "        print(f'消耗时间 --- {end_time - start_time}')\n",
    "        return result\n",
    "    return inner\n",
    "\n",
    "@timer\n",
    "def test_sum(a, b):\n",
    "    time.sleep(5)\n",
    "    return a + b\n",
    "\n",
    "test_sum(2,4)"
   ]
  },
  {
   "cell_type": "code",
   "execution_count": null,
   "metadata": {},
   "outputs": [],
   "source": []
  }
 ]
}