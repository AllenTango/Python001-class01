{
 "metadata": {
  "language_info": {
   "codemirror_mode": {
    "name": "ipython",
    "version": 3
   },
   "file_extension": ".py",
   "mimetype": "text/x-python",
   "name": "python",
   "nbconvert_exporter": "python",
   "pygments_lexer": "ipython3",
   "version": 3
  },
  "orig_nbformat": 2,
  "kernelspec": {
   "name": "python_defaultSpec_1597420269271",
   "display_name": "Python 3.7.4 64-bit ('base': conda)"
  }
 },
 "nbformat": 4,
 "nbformat_minor": 2,
 "cells": [
  {
   "cell_type": "markdown",
   "metadata": {},
   "source": [
    "## 作业一：\n",
    "\n",
    "- 容器序列 `list、tuple、dict、collections.deque`\n",
    "- 扁平序列 `str`\n",
    "- 可变序列 `list、dict、collections.deque`\n",
    "- 不可变序列 `tuple、str`"
   ]
  },
  {
   "cell_type": "markdown",
   "metadata": {},
   "source": [
    "## 作业二："
   ]
  },
  {
   "cell_type": "code",
   "execution_count": 68,
   "metadata": {
    "tags": []
   },
   "outputs": [
    {
     "output_type": "execute_result",
     "data": {
      "text/plain": "[235, 36, 12, 11]"
     },
     "metadata": {},
     "execution_count": 68
    }
   ],
   "source": [
    "def my_map(func, iter, *args):\n",
    "    if len(args) == 0:\n",
    "        for _ in iter:\n",
    "            yield func(_)\n",
    "    else:\n",
    "        for i in args:\n",
    "            for _ in range(len(iter)):\n",
    "                yield func(list(iter)[_],list(i)[_])      \n",
    "    \n",
    "list(my_map((lambda x, y: x + y), (1,2,9,3),[234,34,3,8]))\n",
    "\n",
    "# list(my_map((lambda x: x + 10), [1,2,3]))"
   ]
  },
  {
   "cell_type": "markdown",
   "metadata": {},
   "source": [
    "## 作业三："
   ]
  },
  {
   "cell_type": "code",
   "execution_count": 71,
   "metadata": {
    "tags": []
   },
   "outputs": [
    {
     "output_type": "stream",
     "name": "stdout",
     "text": "消耗时间 --- 5.005502939224243\n"
    },
    {
     "output_type": "execute_result",
     "data": {
      "text/plain": "6"
     },
     "metadata": {},
     "execution_count": 71
    }
   ],
   "source": [
    "import time\n",
    "\n",
    "def timer(func):\n",
    "    def inner(*args, **kwargs):\n",
    "        start_time = time.time()\n",
    "        result = func(*args, **kwargs)\n",
    "        end_time = time.time()\n",
    "        print(f'消耗时间 --- {end_time - start_time}')\n",
    "        return result\n",
    "    return inner\n",
    "\n",
    "@timer\n",
    "def test_sum(a, b):\n",
    "    time.sleep(5)\n",
    "    return a + b\n",
    "\n",
    "test_sum(2,4)"
   ]
  },
  {
   "cell_type": "code",
   "execution_count": null,
   "metadata": {},
   "outputs": [],
   "source": []
  }
 ]
}