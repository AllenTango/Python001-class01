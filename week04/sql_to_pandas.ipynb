{
 "cells": [
  {
   "cell_type": "code",
   "execution_count": 38,
   "metadata": {},
   "outputs": [],
   "source": [
    "import pandas as pd\n",
    "import numpy as np\n",
    "\n",
    "data1 = pd.DataFrame(np.random.randn(20, 5), index=[i for i in range(1, 21)], columns=['A', 'B', 'C', 'D', 'E'])\n",
    "data2 = pd.DataFrame([np.random.randint(1,5,5)], index=[i for i in range(5)], columns=['A', 'B', 'C', 'D', 'E'])"
   ]
  },
  {
   "cell_type": "markdown",
   "metadata": {},
   "source": [
    "## 1. `SELECT * FROM data;`"
   ]
  },
  {
   "cell_type": "code",
   "execution_count": 6,
   "metadata": {},
   "outputs": [
    {
     "output_type": "execute_result",
     "data": {
      "text/plain": "           A         B         C         D         E\n1  -1.189783 -1.088600 -0.438590 -0.729880  0.090740\n2  -0.817648 -1.184841 -1.375551 -1.009540 -0.374561\n3  -0.564880  0.294258 -0.412930 -0.697787 -0.182226\n4   0.518914  1.611123  1.320449 -1.164903  1.346336\n5   1.528600 -0.994454  0.191669  0.411377 -2.381480\n6   0.342806  0.241564  1.160190  0.161474 -1.392115\n7  -0.025116  1.933845 -0.172797 -0.667240  0.481845\n8   0.608132 -0.559541 -0.131132  1.042973 -0.992170\n9  -0.305067  0.353071  0.400186  1.230845 -1.789119\n10 -0.410804 -0.892339 -1.479155 -1.803460 -0.293945\n11  0.068474  0.411368 -2.083877  1.073424 -0.946868\n12 -0.583274 -0.220717 -1.151832  0.687377 -2.126922\n13  1.289818 -0.678571  0.349918  1.358298 -0.406326\n14 -0.835052 -0.045818 -0.447485 -0.472213  0.199000\n15 -2.099113 -0.556110  1.011248  0.860335  0.874811\n16 -0.066198 -1.718530  0.229300 -0.629952 -0.181608\n17 -0.807657  1.637704 -0.060067 -1.263550 -0.091233\n18  1.511010  0.083362 -0.064824 -0.795067  0.829708\n19  0.292035 -1.189185 -1.435303  0.216069  0.441353\n20 -1.129866 -1.826668  0.419377 -1.001408  0.034531",
      "text/html": "<div>\n<style scoped>\n    .dataframe tbody tr th:only-of-type {\n        vertical-align: middle;\n    }\n\n    .dataframe tbody tr th {\n        vertical-align: top;\n    }\n\n    .dataframe thead th {\n        text-align: right;\n    }\n</style>\n<table border=\"1\" class=\"dataframe\">\n  <thead>\n    <tr style=\"text-align: right;\">\n      <th></th>\n      <th>A</th>\n      <th>B</th>\n      <th>C</th>\n      <th>D</th>\n      <th>E</th>\n    </tr>\n  </thead>\n  <tbody>\n    <tr>\n      <th>1</th>\n      <td>-1.189783</td>\n      <td>-1.088600</td>\n      <td>-0.438590</td>\n      <td>-0.729880</td>\n      <td>0.090740</td>\n    </tr>\n    <tr>\n      <th>2</th>\n      <td>-0.817648</td>\n      <td>-1.184841</td>\n      <td>-1.375551</td>\n      <td>-1.009540</td>\n      <td>-0.374561</td>\n    </tr>\n    <tr>\n      <th>3</th>\n      <td>-0.564880</td>\n      <td>0.294258</td>\n      <td>-0.412930</td>\n      <td>-0.697787</td>\n      <td>-0.182226</td>\n    </tr>\n    <tr>\n      <th>4</th>\n      <td>0.518914</td>\n      <td>1.611123</td>\n      <td>1.320449</td>\n      <td>-1.164903</td>\n      <td>1.346336</td>\n    </tr>\n    <tr>\n      <th>5</th>\n      <td>1.528600</td>\n      <td>-0.994454</td>\n      <td>0.191669</td>\n      <td>0.411377</td>\n      <td>-2.381480</td>\n    </tr>\n    <tr>\n      <th>6</th>\n      <td>0.342806</td>\n      <td>0.241564</td>\n      <td>1.160190</td>\n      <td>0.161474</td>\n      <td>-1.392115</td>\n    </tr>\n    <tr>\n      <th>7</th>\n      <td>-0.025116</td>\n      <td>1.933845</td>\n      <td>-0.172797</td>\n      <td>-0.667240</td>\n      <td>0.481845</td>\n    </tr>\n    <tr>\n      <th>8</th>\n      <td>0.608132</td>\n      <td>-0.559541</td>\n      <td>-0.131132</td>\n      <td>1.042973</td>\n      <td>-0.992170</td>\n    </tr>\n    <tr>\n      <th>9</th>\n      <td>-0.305067</td>\n      <td>0.353071</td>\n      <td>0.400186</td>\n      <td>1.230845</td>\n      <td>-1.789119</td>\n    </tr>\n    <tr>\n      <th>10</th>\n      <td>-0.410804</td>\n      <td>-0.892339</td>\n      <td>-1.479155</td>\n      <td>-1.803460</td>\n      <td>-0.293945</td>\n    </tr>\n    <tr>\n      <th>11</th>\n      <td>0.068474</td>\n      <td>0.411368</td>\n      <td>-2.083877</td>\n      <td>1.073424</td>\n      <td>-0.946868</td>\n    </tr>\n    <tr>\n      <th>12</th>\n      <td>-0.583274</td>\n      <td>-0.220717</td>\n      <td>-1.151832</td>\n      <td>0.687377</td>\n      <td>-2.126922</td>\n    </tr>\n    <tr>\n      <th>13</th>\n      <td>1.289818</td>\n      <td>-0.678571</td>\n      <td>0.349918</td>\n      <td>1.358298</td>\n      <td>-0.406326</td>\n    </tr>\n    <tr>\n      <th>14</th>\n      <td>-0.835052</td>\n      <td>-0.045818</td>\n      <td>-0.447485</td>\n      <td>-0.472213</td>\n      <td>0.199000</td>\n    </tr>\n    <tr>\n      <th>15</th>\n      <td>-2.099113</td>\n      <td>-0.556110</td>\n      <td>1.011248</td>\n      <td>0.860335</td>\n      <td>0.874811</td>\n    </tr>\n    <tr>\n      <th>16</th>\n      <td>-0.066198</td>\n      <td>-1.718530</td>\n      <td>0.229300</td>\n      <td>-0.629952</td>\n      <td>-0.181608</td>\n    </tr>\n    <tr>\n      <th>17</th>\n      <td>-0.807657</td>\n      <td>1.637704</td>\n      <td>-0.060067</td>\n      <td>-1.263550</td>\n      <td>-0.091233</td>\n    </tr>\n    <tr>\n      <th>18</th>\n      <td>1.511010</td>\n      <td>0.083362</td>\n      <td>-0.064824</td>\n      <td>-0.795067</td>\n      <td>0.829708</td>\n    </tr>\n    <tr>\n      <th>19</th>\n      <td>0.292035</td>\n      <td>-1.189185</td>\n      <td>-1.435303</td>\n      <td>0.216069</td>\n      <td>0.441353</td>\n    </tr>\n    <tr>\n      <th>20</th>\n      <td>-1.129866</td>\n      <td>-1.826668</td>\n      <td>0.419377</td>\n      <td>-1.001408</td>\n      <td>0.034531</td>\n    </tr>\n  </tbody>\n</table>\n</div>"
     },
     "metadata": {},
     "execution_count": 6
    }
   ],
   "source": [
    "data1"
   ]
  },
  {
   "cell_type": "markdown",
   "metadata": {},
   "source": [
    "## 2. `SELECT * FROM data LIMIT 10;`"
   ]
  },
  {
   "cell_type": "code",
   "execution_count": 7,
   "metadata": {},
   "outputs": [
    {
     "output_type": "execute_result",
     "data": {
      "text/plain": "           A         B         C         D         E\n1  -1.189783 -1.088600 -0.438590 -0.729880  0.090740\n2  -0.817648 -1.184841 -1.375551 -1.009540 -0.374561\n3  -0.564880  0.294258 -0.412930 -0.697787 -0.182226\n4   0.518914  1.611123  1.320449 -1.164903  1.346336\n5   1.528600 -0.994454  0.191669  0.411377 -2.381480\n6   0.342806  0.241564  1.160190  0.161474 -1.392115\n7  -0.025116  1.933845 -0.172797 -0.667240  0.481845\n8   0.608132 -0.559541 -0.131132  1.042973 -0.992170\n9  -0.305067  0.353071  0.400186  1.230845 -1.789119\n10 -0.410804 -0.892339 -1.479155 -1.803460 -0.293945",
      "text/html": "<div>\n<style scoped>\n    .dataframe tbody tr th:only-of-type {\n        vertical-align: middle;\n    }\n\n    .dataframe tbody tr th {\n        vertical-align: top;\n    }\n\n    .dataframe thead th {\n        text-align: right;\n    }\n</style>\n<table border=\"1\" class=\"dataframe\">\n  <thead>\n    <tr style=\"text-align: right;\">\n      <th></th>\n      <th>A</th>\n      <th>B</th>\n      <th>C</th>\n      <th>D</th>\n      <th>E</th>\n    </tr>\n  </thead>\n  <tbody>\n    <tr>\n      <th>1</th>\n      <td>-1.189783</td>\n      <td>-1.088600</td>\n      <td>-0.438590</td>\n      <td>-0.729880</td>\n      <td>0.090740</td>\n    </tr>\n    <tr>\n      <th>2</th>\n      <td>-0.817648</td>\n      <td>-1.184841</td>\n      <td>-1.375551</td>\n      <td>-1.009540</td>\n      <td>-0.374561</td>\n    </tr>\n    <tr>\n      <th>3</th>\n      <td>-0.564880</td>\n      <td>0.294258</td>\n      <td>-0.412930</td>\n      <td>-0.697787</td>\n      <td>-0.182226</td>\n    </tr>\n    <tr>\n      <th>4</th>\n      <td>0.518914</td>\n      <td>1.611123</td>\n      <td>1.320449</td>\n      <td>-1.164903</td>\n      <td>1.346336</td>\n    </tr>\n    <tr>\n      <th>5</th>\n      <td>1.528600</td>\n      <td>-0.994454</td>\n      <td>0.191669</td>\n      <td>0.411377</td>\n      <td>-2.381480</td>\n    </tr>\n    <tr>\n      <th>6</th>\n      <td>0.342806</td>\n      <td>0.241564</td>\n      <td>1.160190</td>\n      <td>0.161474</td>\n      <td>-1.392115</td>\n    </tr>\n    <tr>\n      <th>7</th>\n      <td>-0.025116</td>\n      <td>1.933845</td>\n      <td>-0.172797</td>\n      <td>-0.667240</td>\n      <td>0.481845</td>\n    </tr>\n    <tr>\n      <th>8</th>\n      <td>0.608132</td>\n      <td>-0.559541</td>\n      <td>-0.131132</td>\n      <td>1.042973</td>\n      <td>-0.992170</td>\n    </tr>\n    <tr>\n      <th>9</th>\n      <td>-0.305067</td>\n      <td>0.353071</td>\n      <td>0.400186</td>\n      <td>1.230845</td>\n      <td>-1.789119</td>\n    </tr>\n    <tr>\n      <th>10</th>\n      <td>-0.410804</td>\n      <td>-0.892339</td>\n      <td>-1.479155</td>\n      <td>-1.803460</td>\n      <td>-0.293945</td>\n    </tr>\n  </tbody>\n</table>\n</div>"
     },
     "metadata": {},
     "execution_count": 7
    }
   ],
   "source": [
    "data1.head(10)"
   ]
  },
  {
   "cell_type": "markdown",
   "metadata": {},
   "source": [
    "## 3. `SELECT id FROM data;`"
   ]
  },
  {
   "cell_type": "code",
   "execution_count": 8,
   "metadata": {},
   "outputs": [
    {
     "output_type": "execute_result",
     "data": {
      "text/plain": "1    -1.088600\n2    -1.184841\n3     0.294258\n4     1.611123\n5    -0.994454\n6     0.241564\n7     1.933845\n8    -0.559541\n9     0.353071\n10   -0.892339\n11    0.411368\n12   -0.220717\n13   -0.678571\n14   -0.045818\n15   -0.556110\n16   -1.718530\n17    1.637704\n18    0.083362\n19   -1.189185\n20   -1.826668\nName: B, dtype: float64"
     },
     "metadata": {},
     "execution_count": 8
    }
   ],
   "source": [
    "data1['B']"
   ]
  },
  {
   "cell_type": "markdown",
   "metadata": {},
   "source": [
    "## 4. `SELECT COUNT(id) FROM data;`"
   ]
  },
  {
   "cell_type": "code",
   "execution_count": 11,
   "metadata": {},
   "outputs": [
    {
     "output_type": "execute_result",
     "data": {
      "text/plain": "20"
     },
     "metadata": {},
     "execution_count": 11
    }
   ],
   "source": [
    "data1['B'].count()"
   ]
  },
  {
   "cell_type": "markdown",
   "metadata": {},
   "source": [
    "## 5. `SELECT * FROM data WHERE id<1000 AND age>30;`"
   ]
  },
  {
   "cell_type": "code",
   "execution_count": 15,
   "metadata": {},
   "outputs": [
    {
     "output_type": "execute_result",
     "data": {
      "text/plain": "           A         B         C         D         E\n8   0.608132 -0.559541 -0.131132  1.042973 -0.992170\n13  1.289818 -0.678571  0.349918  1.358298 -0.406326",
      "text/html": "<div>\n<style scoped>\n    .dataframe tbody tr th:only-of-type {\n        vertical-align: middle;\n    }\n\n    .dataframe tbody tr th {\n        vertical-align: top;\n    }\n\n    .dataframe thead th {\n        text-align: right;\n    }\n</style>\n<table border=\"1\" class=\"dataframe\">\n  <thead>\n    <tr style=\"text-align: right;\">\n      <th></th>\n      <th>A</th>\n      <th>B</th>\n      <th>C</th>\n      <th>D</th>\n      <th>E</th>\n    </tr>\n  </thead>\n  <tbody>\n    <tr>\n      <th>8</th>\n      <td>0.608132</td>\n      <td>-0.559541</td>\n      <td>-0.131132</td>\n      <td>1.042973</td>\n      <td>-0.992170</td>\n    </tr>\n    <tr>\n      <th>13</th>\n      <td>1.289818</td>\n      <td>-0.678571</td>\n      <td>0.349918</td>\n      <td>1.358298</td>\n      <td>-0.406326</td>\n    </tr>\n  </tbody>\n</table>\n</div>"
     },
     "metadata": {},
     "execution_count": 15
    }
   ],
   "source": [
    "data1[(data1['B'] < 0) & (data1['D'] > 1)]"
   ]
  },
  {
   "cell_type": "markdown",
   "metadata": {},
   "source": [
    "## 6. `SELECT id,COUNT(DISTINCT order_id) FROM table1 GROUP BY id;`"
   ]
  },
  {
   "cell_type": "code",
   "execution_count": 46,
   "metadata": {
    "tags": []
   },
   "outputs": [
    {
     "output_type": "execute_result",
     "data": {
      "text/plain": "A\n-1.858246    1\n-1.677584    1\n-1.477360    1\n-1.314514    1\n-1.182889    1\n-1.044042    1\n-0.958248    1\n-0.665230    1\n-0.393628    1\n-0.380842    1\n-0.181235    1\n-0.122500    1\n 0.131819    1\n 0.347386    1\n 1.178058    1\n 1.479447    1\n 1.497975    1\n 1.540477    1\n 1.609544    1\n 1.783139    1\nName: D, dtype: int64"
     },
     "metadata": {},
     "execution_count": 46
    }
   ],
   "source": [
    "data1.groupby('A')['D'].count()"
   ]
  },
  {
   "cell_type": "markdown",
   "metadata": {},
   "source": [
    "## 7. `SELECT * FROM table1 t1 INNER JOIN table2 t2 ON t1.id = t2.id;`"
   ]
  },
  {
   "cell_type": "code",
   "execution_count": 51,
   "metadata": {},
   "outputs": [
    {
     "output_type": "execute_result",
     "data": {
      "text/plain": "Series([], Name: B, dtype: float64)"
     },
     "metadata": {},
     "execution_count": 51
    }
   ],
   "source": [
    "new_data = pd.merge(data1, data2, on='B', how='inner')\n",
    "new_data['B']"
   ]
  },
  {
   "cell_type": "markdown",
   "metadata": {},
   "source": [
    "## 8. `SELECT * FROM table1 UNION SELECT * FROM table2;`"
   ]
  },
  {
   "cell_type": "code",
   "execution_count": 52,
   "metadata": {},
   "outputs": [
    {
     "output_type": "execute_result",
     "data": {
      "text/plain": "           A         B         C         D         E\n1  -1.677584  1.995542 -0.256570  0.791798  1.003123\n2   1.783139 -0.992434 -1.101299 -0.079591 -0.168830\n3  -1.182889  0.426132 -0.666593 -0.393178 -0.089776\n4   1.479447  0.914307 -0.850135 -0.545530  1.924193\n5  -0.958248  2.418816  0.251613  0.490435 -1.008736\n6  -0.665230  1.030292  0.080543 -0.701601 -0.598544\n7   1.178058 -2.611696 -1.053333 -2.104941  0.083467\n8  -0.380842 -0.472701  0.323309  1.399564 -1.049885\n9  -0.181235  0.846401  0.190243  1.103312 -0.665880\n10 -0.393628  0.359380 -0.042286  0.904374 -0.654111\n11 -0.122500  0.466699  1.518284  0.035848  0.684691\n12  0.347386  0.099527  0.229662 -2.074592 -0.764028\n13  0.131819  0.499305  0.184627  0.018106  1.314154\n14  1.540477 -0.852883  1.094358  0.913407  1.193639\n15 -1.314514 -0.469652 -1.054219 -0.422852 -0.580359\n16 -1.477360  3.628839 -0.187280 -1.246683  0.203187\n17 -1.858246 -0.271262 -0.406770 -0.248554  1.278984\n18  1.609544 -1.393252  0.771675 -0.587583  2.006423\n19 -1.044042  0.425563 -0.467657 -0.056696  0.361454\n20  1.497975 -0.000148  0.602092 -0.064996  0.612961\n0   4.000000  3.000000  3.000000  4.000000  1.000000\n1   4.000000  3.000000  3.000000  4.000000  1.000000\n2   4.000000  3.000000  3.000000  4.000000  1.000000\n3   4.000000  3.000000  3.000000  4.000000  1.000000\n4   4.000000  3.000000  3.000000  4.000000  1.000000",
      "text/html": "<div>\n<style scoped>\n    .dataframe tbody tr th:only-of-type {\n        vertical-align: middle;\n    }\n\n    .dataframe tbody tr th {\n        vertical-align: top;\n    }\n\n    .dataframe thead th {\n        text-align: right;\n    }\n</style>\n<table border=\"1\" class=\"dataframe\">\n  <thead>\n    <tr style=\"text-align: right;\">\n      <th></th>\n      <th>A</th>\n      <th>B</th>\n      <th>C</th>\n      <th>D</th>\n      <th>E</th>\n    </tr>\n  </thead>\n  <tbody>\n    <tr>\n      <th>1</th>\n      <td>-1.677584</td>\n      <td>1.995542</td>\n      <td>-0.256570</td>\n      <td>0.791798</td>\n      <td>1.003123</td>\n    </tr>\n    <tr>\n      <th>2</th>\n      <td>1.783139</td>\n      <td>-0.992434</td>\n      <td>-1.101299</td>\n      <td>-0.079591</td>\n      <td>-0.168830</td>\n    </tr>\n    <tr>\n      <th>3</th>\n      <td>-1.182889</td>\n      <td>0.426132</td>\n      <td>-0.666593</td>\n      <td>-0.393178</td>\n      <td>-0.089776</td>\n    </tr>\n    <tr>\n      <th>4</th>\n      <td>1.479447</td>\n      <td>0.914307</td>\n      <td>-0.850135</td>\n      <td>-0.545530</td>\n      <td>1.924193</td>\n    </tr>\n    <tr>\n      <th>5</th>\n      <td>-0.958248</td>\n      <td>2.418816</td>\n      <td>0.251613</td>\n      <td>0.490435</td>\n      <td>-1.008736</td>\n    </tr>\n    <tr>\n      <th>6</th>\n      <td>-0.665230</td>\n      <td>1.030292</td>\n      <td>0.080543</td>\n      <td>-0.701601</td>\n      <td>-0.598544</td>\n    </tr>\n    <tr>\n      <th>7</th>\n      <td>1.178058</td>\n      <td>-2.611696</td>\n      <td>-1.053333</td>\n      <td>-2.104941</td>\n      <td>0.083467</td>\n    </tr>\n    <tr>\n      <th>8</th>\n      <td>-0.380842</td>\n      <td>-0.472701</td>\n      <td>0.323309</td>\n      <td>1.399564</td>\n      <td>-1.049885</td>\n    </tr>\n    <tr>\n      <th>9</th>\n      <td>-0.181235</td>\n      <td>0.846401</td>\n      <td>0.190243</td>\n      <td>1.103312</td>\n      <td>-0.665880</td>\n    </tr>\n    <tr>\n      <th>10</th>\n      <td>-0.393628</td>\n      <td>0.359380</td>\n      <td>-0.042286</td>\n      <td>0.904374</td>\n      <td>-0.654111</td>\n    </tr>\n    <tr>\n      <th>11</th>\n      <td>-0.122500</td>\n      <td>0.466699</td>\n      <td>1.518284</td>\n      <td>0.035848</td>\n      <td>0.684691</td>\n    </tr>\n    <tr>\n      <th>12</th>\n      <td>0.347386</td>\n      <td>0.099527</td>\n      <td>0.229662</td>\n      <td>-2.074592</td>\n      <td>-0.764028</td>\n    </tr>\n    <tr>\n      <th>13</th>\n      <td>0.131819</td>\n      <td>0.499305</td>\n      <td>0.184627</td>\n      <td>0.018106</td>\n      <td>1.314154</td>\n    </tr>\n    <tr>\n      <th>14</th>\n      <td>1.540477</td>\n      <td>-0.852883</td>\n      <td>1.094358</td>\n      <td>0.913407</td>\n      <td>1.193639</td>\n    </tr>\n    <tr>\n      <th>15</th>\n      <td>-1.314514</td>\n      <td>-0.469652</td>\n      <td>-1.054219</td>\n      <td>-0.422852</td>\n      <td>-0.580359</td>\n    </tr>\n    <tr>\n      <th>16</th>\n      <td>-1.477360</td>\n      <td>3.628839</td>\n      <td>-0.187280</td>\n      <td>-1.246683</td>\n      <td>0.203187</td>\n    </tr>\n    <tr>\n      <th>17</th>\n      <td>-1.858246</td>\n      <td>-0.271262</td>\n      <td>-0.406770</td>\n      <td>-0.248554</td>\n      <td>1.278984</td>\n    </tr>\n    <tr>\n      <th>18</th>\n      <td>1.609544</td>\n      <td>-1.393252</td>\n      <td>0.771675</td>\n      <td>-0.587583</td>\n      <td>2.006423</td>\n    </tr>\n    <tr>\n      <th>19</th>\n      <td>-1.044042</td>\n      <td>0.425563</td>\n      <td>-0.467657</td>\n      <td>-0.056696</td>\n      <td>0.361454</td>\n    </tr>\n    <tr>\n      <th>20</th>\n      <td>1.497975</td>\n      <td>-0.000148</td>\n      <td>0.602092</td>\n      <td>-0.064996</td>\n      <td>0.612961</td>\n    </tr>\n    <tr>\n      <th>0</th>\n      <td>4.000000</td>\n      <td>3.000000</td>\n      <td>3.000000</td>\n      <td>4.000000</td>\n      <td>1.000000</td>\n    </tr>\n    <tr>\n      <th>1</th>\n      <td>4.000000</td>\n      <td>3.000000</td>\n      <td>3.000000</td>\n      <td>4.000000</td>\n      <td>1.000000</td>\n    </tr>\n    <tr>\n      <th>2</th>\n      <td>4.000000</td>\n      <td>3.000000</td>\n      <td>3.000000</td>\n      <td>4.000000</td>\n      <td>1.000000</td>\n    </tr>\n    <tr>\n      <th>3</th>\n      <td>4.000000</td>\n      <td>3.000000</td>\n      <td>3.000000</td>\n      <td>4.000000</td>\n      <td>1.000000</td>\n    </tr>\n    <tr>\n      <th>4</th>\n      <td>4.000000</td>\n      <td>3.000000</td>\n      <td>3.000000</td>\n      <td>4.000000</td>\n      <td>1.000000</td>\n    </tr>\n  </tbody>\n</table>\n</div>"
     },
     "metadata": {},
     "execution_count": 52
    }
   ],
   "source": [
    "pd.concat([data1, data2])"
   ]
  },
  {
   "cell_type": "markdown",
   "metadata": {},
   "source": [
    "## 9. `DELETE FROM table1 WHERE id=10;`"
   ]
  },
  {
   "cell_type": "code",
   "execution_count": 56,
   "metadata": {},
   "outputs": [
    {
     "output_type": "execute_result",
     "data": {
      "text/plain": "   A  B  C  D  E\n0  4  3  3  4  1\n1  4  3  3  4  1\n2  4  3  3  4  1\n3  4  3  3  4  1\n4  4  3  3  4  1",
      "text/html": "<div>\n<style scoped>\n    .dataframe tbody tr th:only-of-type {\n        vertical-align: middle;\n    }\n\n    .dataframe tbody tr th {\n        vertical-align: top;\n    }\n\n    .dataframe thead th {\n        text-align: right;\n    }\n</style>\n<table border=\"1\" class=\"dataframe\">\n  <thead>\n    <tr style=\"text-align: right;\">\n      <th></th>\n      <th>A</th>\n      <th>B</th>\n      <th>C</th>\n      <th>D</th>\n      <th>E</th>\n    </tr>\n  </thead>\n  <tbody>\n    <tr>\n      <th>0</th>\n      <td>4</td>\n      <td>3</td>\n      <td>3</td>\n      <td>4</td>\n      <td>1</td>\n    </tr>\n    <tr>\n      <th>1</th>\n      <td>4</td>\n      <td>3</td>\n      <td>3</td>\n      <td>4</td>\n      <td>1</td>\n    </tr>\n    <tr>\n      <th>2</th>\n      <td>4</td>\n      <td>3</td>\n      <td>3</td>\n      <td>4</td>\n      <td>1</td>\n    </tr>\n    <tr>\n      <th>3</th>\n      <td>4</td>\n      <td>3</td>\n      <td>3</td>\n      <td>4</td>\n      <td>1</td>\n    </tr>\n    <tr>\n      <th>4</th>\n      <td>4</td>\n      <td>3</td>\n      <td>3</td>\n      <td>4</td>\n      <td>1</td>\n    </tr>\n  </tbody>\n</table>\n</div>"
     },
     "metadata": {},
     "execution_count": 56
    }
   ],
   "source": [
    "data2.loc[data2['B'] != 2]"
   ]
  },
  {
   "cell_type": "markdown",
   "metadata": {},
   "source": [
    "## 10. `ALTER TABLE table1 DROP COLUMN column_name;`"
   ]
  },
  {
   "cell_type": "code",
   "execution_count": 57,
   "metadata": {},
   "outputs": [
    {
     "output_type": "execute_result",
     "data": {
      "text/plain": "   A  C  D  E\n0  4  3  4  1\n1  4  3  4  1\n2  4  3  4  1\n3  4  3  4  1\n4  4  3  4  1",
      "text/html": "<div>\n<style scoped>\n    .dataframe tbody tr th:only-of-type {\n        vertical-align: middle;\n    }\n\n    .dataframe tbody tr th {\n        vertical-align: top;\n    }\n\n    .dataframe thead th {\n        text-align: right;\n    }\n</style>\n<table border=\"1\" class=\"dataframe\">\n  <thead>\n    <tr style=\"text-align: right;\">\n      <th></th>\n      <th>A</th>\n      <th>C</th>\n      <th>D</th>\n      <th>E</th>\n    </tr>\n  </thead>\n  <tbody>\n    <tr>\n      <th>0</th>\n      <td>4</td>\n      <td>3</td>\n      <td>4</td>\n      <td>1</td>\n    </tr>\n    <tr>\n      <th>1</th>\n      <td>4</td>\n      <td>3</td>\n      <td>4</td>\n      <td>1</td>\n    </tr>\n    <tr>\n      <th>2</th>\n      <td>4</td>\n      <td>3</td>\n      <td>4</td>\n      <td>1</td>\n    </tr>\n    <tr>\n      <th>3</th>\n      <td>4</td>\n      <td>3</td>\n      <td>4</td>\n      <td>1</td>\n    </tr>\n    <tr>\n      <th>4</th>\n      <td>4</td>\n      <td>3</td>\n      <td>4</td>\n      <td>1</td>\n    </tr>\n  </tbody>\n</table>\n</div>"
     },
     "metadata": {},
     "execution_count": 57
    }
   ],
   "source": [
    "data2.drop(columns='B')"
   ]
  }
 ],
 "metadata": {
  "language_info": {
   "codemirror_mode": {
    "name": "ipython",
    "version": 3
   },
   "file_extension": ".py",
   "mimetype": "text/x-python",
   "name": "python",
   "nbconvert_exporter": "python",
   "pygments_lexer": "ipython3",
   "version": 3
  },
  "orig_nbformat": 2,
  "kernelspec": {
   "name": "python_defaultSpec_1595131137346",
   "display_name": "Python 3.8.3 64-bit"
  }
 },
 "nbformat": 4,
 "nbformat_minor": 2
}